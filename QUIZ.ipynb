{
    "metadata": {
        "kernelspec": {
            "language": "python", 
            "display_name": "Python 3.5", 
            "name": "python3"
        }, 
        "language_info": {
            "name": "python", 
            "version": "3.5.5", 
            "pygments_lexer": "ipython3", 
            "nbconvert_exporter": "python", 
            "mimetype": "text/x-python", 
            "codemirror_mode": {
                "version": 3, 
                "name": "ipython"
            }, 
            "file_extension": ".py"
        }
    }, 
    "nbformat": 4, 
    "cells": [
        {
            "metadata": {
                "collapsed": true
            }, 
            "cell_type": "markdown", 
            "source": "<h1>My Jupyter Notebook on IBM Data Science Experience</h1>"
        }, 
        {
            "metadata": {}, 
            "cell_type": "markdown", 
            "source": "<b>Timur Iusubaliev</b><br>CEO"
        }, 
        {
            "metadata": {}, 
            "cell_type": "markdown", 
            "source": "<i>I am instereted in data science because it's very exicting subject</i>"
        }, 
        {
            "metadata": {}, 
            "cell_type": "markdown", 
            "source": "<h3>My Code will calculate Y variable</h3>"
        }, 
        {
            "execution_count": 2, 
            "metadata": {}, 
            "outputs": [
                {
                    "output_type": "stream", 
                    "name": "stdout", 
                    "text": "11\n"
                }
            ], 
            "cell_type": "code", 
            "source": "x=1\ny=x+10\nprint (y)"
        }, 
        {
            "metadata": {}, 
            "cell_type": "markdown", 
            "source": "TABLE\n<table><tr><td>1.1</td><td>1.2</td></tr><tr><td>2.1</td><td>2.2</td><table>"
        }, 
        {
            "metadata": {}, 
            "cell_type": "markdown", 
            "source": "Bulleted list\n<li>1</li><li>2</li><li>3</li>"
        }, 
        {
            "metadata": {}, 
            "cell_type": "markdown", 
            "source": "Line\n<hr>"
        }
    ], 
    "nbformat_minor": 1
}